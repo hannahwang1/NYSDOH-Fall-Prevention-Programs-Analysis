{
  "nbformat": 4,
  "nbformat_minor": 0,
  "metadata": {
    "colab": {
      "provenance": [],
      "toc_visible": true,
      "authorship_tag": "ABX9TyOoDsG+YExeLZNLQkw/7kX+",
      "include_colab_link": true
    },
    "kernelspec": {
      "name": "python3",
      "display_name": "Python 3"
    },
    "language_info": {
      "name": "python"
    }
  },
  "cells": [
    {
      "cell_type": "markdown",
      "metadata": {
        "id": "view-in-github",
        "colab_type": "text"
      },
      "source": [
        "<a href=\"https://colab.research.google.com/github/hannahwang1/NYSDOH-Fall-Prevention-Programs-Analysis/blob/main/NYSDOH_EBFPP.ipynb\" target=\"_parent\"><img src=\"https://colab.research.google.com/assets/colab-badge.svg\" alt=\"Open In Colab\"/></a>"
      ]
    },
    {
      "cell_type": "markdown",
      "source": [
        "# Merging to include region infomation of host organization:"
      ],
      "metadata": {
        "id": "iA8t-ntTfq8u"
      }
    },
    {
      "cell_type": "code",
      "execution_count": 2,
      "metadata": {
        "colab": {
          "base_uri": "https://localhost:8080/"
        },
        "id": "upkj5CZPR6Av",
        "outputId": "0696ef94-f8fb-43bf-b7c1-c69be1b293ec"
      },
      "outputs": [
        {
          "output_type": "stream",
          "name": "stdout",
          "text": [
            "Mounted at /content/drive\n"
          ]
        }
      ],
      "source": [
        "import pandas as pd\n",
        "\n",
        "# Load the module\n",
        "from google.colab import drive\n",
        "\n",
        "# Mount the drive\n",
        "drive.mount('/content/drive')"
      ]
    },
    {
      "cell_type": "markdown",
      "source": [
        "##Fall Prevention Programs Data"
      ],
      "metadata": {
        "id": "f0SrB4UdeK2C"
      }
    },
    {
      "cell_type": "code",
      "source": [
        "# load FALL file using relative path \n",
        "df = pd.read_csv('/content/drive/MyDrive/MPH MBA/MPH/580: Practicum/NYSDOH EBFPP/FALLS_ExportParticipant2015.csv')\n",
        "df.head()"
      ],
      "metadata": {
        "colab": {
          "base_uri": "https://localhost:8080/",
          "height": 735
        },
        "id": "iKx5EztQXF5F",
        "outputId": "2c77fb41-8c95-466a-a91e-2c8f31038680"
      },
      "execution_count": 2,
      "outputs": [
        {
          "output_type": "stream",
          "name": "stderr",
          "text": [
            "/usr/local/lib/python3.8/dist-packages/IPython/core/interactiveshell.py:3326: DtypeWarning: Columns (19,20,27,34,38,100,107,131) have mixed types.Specify dtype option on import or set low_memory=False.\n",
            "  exec(code_obj, self.user_global_ns, self.user_ns)\n"
          ]
        },
        {
          "output_type": "execute_result",
          "data": {
            "text/plain": [
              "   Host Org System ID                    Host Org Name  \\\n",
              "0             66434.0  Broome County Health Department   \n",
              "1             66434.0  Broome County Health Department   \n",
              "2             66434.0  Broome County Health Department   \n",
              "3             66434.0  Broome County Health Department   \n",
              "4             66434.0  Broome County Health Department   \n",
              "\n",
              "              Host Org Type Host Org Street Host Org City Host Org State  \\\n",
              "0  County Health Department   225 Front St.    Binghamton             NY   \n",
              "1  County Health Department   225 Front St.    Binghamton             NY   \n",
              "2  County Health Department   225 Front St.    Binghamton             NY   \n",
              "3  County Health Department   225 Front St.    Binghamton             NY   \n",
              "4  County Health Department   225 Front St.    Binghamton             NY   \n",
              "\n",
              "   Host Org Zip  Host Org Contact Name  Host Org Contact Email  \\\n",
              "0       13905.0                    NaN                     NaN   \n",
              "1       13905.0                    NaN                     NaN   \n",
              "2       13905.0                    NaN                     NaN   \n",
              "3       13905.0                    NaN                     NaN   \n",
              "4       13905.0                    NaN                     NaN   \n",
              "\n",
              "   Host Org Contact Phone  ...  \\\n",
              "0                     NaN  ...   \n",
              "1                     NaN  ...   \n",
              "2                     NaN  ...   \n",
              "3                     NaN  ...   \n",
              "4                     NaN  ...   \n",
              "\n",
              "   Survey Last Q8 (V 1) / Q7 (V 2) / Q9 (V 3) - Talk to Healthcare  \\\n",
              "0                                                0.0                 \n",
              "1                                                1.0                 \n",
              "2                                                0.0                 \n",
              "3                                                0.0                 \n",
              "4                                                0.0                 \n",
              "\n",
              "  Survey Last Q8 (V 1) / Q7 (V 2) / Q9 (V 3) - Had Vision Checked  \\\n",
              "0                                                0.0                \n",
              "1                                                0.0                \n",
              "2                                                0.0                \n",
              "3                                                0.0                \n",
              "4                                                0.0                \n",
              "\n",
              "  Survey Last Q8 (V 1) / Q7 (V 2) / Q9 (V 3) - Had Medication Review  \\\n",
              "0                                                0.0                   \n",
              "1                                                0.0                   \n",
              "2                                                0.0                   \n",
              "3                                                0.0                   \n",
              "4                                                0.0                   \n",
              "\n",
              "  Survey Last Q8 (V 1) / Q7 (V 2) / Q9 (V 3) - Participated in Another Fall Progtram  \\\n",
              "0                                                0.0                                   \n",
              "1                                                0.0                                   \n",
              "2                                                0.0                                   \n",
              "3                                                0.0                                   \n",
              "4                                                0.0                                   \n",
              "\n",
              "  Survey Last Q8- Exercises at Home (V 1)  \\\n",
              "0                                     0.0   \n",
              "1                                     1.0   \n",
              "2                                     1.0   \n",
              "3                                     1.0   \n",
              "4                                     1.0   \n",
              "\n",
              "  Survey Last Q8- Made Changes in Home (V 1)  \\\n",
              "0                                        1.0   \n",
              "1                                        0.0   \n",
              "2                                        0.0   \n",
              "3                                        0.0   \n",
              "4                                        1.0   \n",
              "\n",
              "   Survey Last Q8 Made Safety Mods Home (V 2)  \\\n",
              "0                                         NaN   \n",
              "1                                         NaN   \n",
              "2                                         NaN   \n",
              "3                                         NaN   \n",
              "4                                         NaN   \n",
              "\n",
              "  Survey Last Q9 (V 2) / Q7 (V 3) Activity Level  \\\n",
              "0                                            NaN   \n",
              "1                                            NaN   \n",
              "2                                            NaN   \n",
              "3                                            NaN   \n",
              "4                                            NaN   \n",
              "\n",
              "  Last Survey Timed Up and Go (optional) Last Survey Chair Stand (optional)  \n",
              "0                                    NaN                                NaN  \n",
              "1                                    NaN                                NaN  \n",
              "2                                    NaN                                NaN  \n",
              "3                                    NaN                                NaN  \n",
              "4                                    NaN                                NaN  \n",
              "\n",
              "[5 rows x 176 columns]"
            ],
            "text/html": [
              "\n",
              "  <div id=\"df-119fc601-fe73-46e8-a758-30f852a5240f\">\n",
              "    <div class=\"colab-df-container\">\n",
              "      <div>\n",
              "<style scoped>\n",
              "    .dataframe tbody tr th:only-of-type {\n",
              "        vertical-align: middle;\n",
              "    }\n",
              "\n",
              "    .dataframe tbody tr th {\n",
              "        vertical-align: top;\n",
              "    }\n",
              "\n",
              "    .dataframe thead th {\n",
              "        text-align: right;\n",
              "    }\n",
              "</style>\n",
              "<table border=\"1\" class=\"dataframe\">\n",
              "  <thead>\n",
              "    <tr style=\"text-align: right;\">\n",
              "      <th></th>\n",
              "      <th>Host Org System ID</th>\n",
              "      <th>Host Org Name</th>\n",
              "      <th>Host Org Type</th>\n",
              "      <th>Host Org Street</th>\n",
              "      <th>Host Org City</th>\n",
              "      <th>Host Org State</th>\n",
              "      <th>Host Org Zip</th>\n",
              "      <th>Host Org Contact Name</th>\n",
              "      <th>Host Org Contact Email</th>\n",
              "      <th>Host Org Contact Phone</th>\n",
              "      <th>...</th>\n",
              "      <th>Survey Last Q8 (V 1) / Q7 (V 2) / Q9 (V 3) - Talk to Healthcare</th>\n",
              "      <th>Survey Last Q8 (V 1) / Q7 (V 2) / Q9 (V 3) - Had Vision Checked</th>\n",
              "      <th>Survey Last Q8 (V 1) / Q7 (V 2) / Q9 (V 3) - Had Medication Review</th>\n",
              "      <th>Survey Last Q8 (V 1) / Q7 (V 2) / Q9 (V 3) - Participated in Another Fall Progtram</th>\n",
              "      <th>Survey Last Q8- Exercises at Home (V 1)</th>\n",
              "      <th>Survey Last Q8- Made Changes in Home (V 1)</th>\n",
              "      <th>Survey Last Q8 Made Safety Mods Home (V 2)</th>\n",
              "      <th>Survey Last Q9 (V 2) / Q7 (V 3) Activity Level</th>\n",
              "      <th>Last Survey Timed Up and Go (optional)</th>\n",
              "      <th>Last Survey Chair Stand (optional)</th>\n",
              "    </tr>\n",
              "  </thead>\n",
              "  <tbody>\n",
              "    <tr>\n",
              "      <th>0</th>\n",
              "      <td>66434.0</td>\n",
              "      <td>Broome County Health Department</td>\n",
              "      <td>County Health Department</td>\n",
              "      <td>225 Front St.</td>\n",
              "      <td>Binghamton</td>\n",
              "      <td>NY</td>\n",
              "      <td>13905.0</td>\n",
              "      <td>NaN</td>\n",
              "      <td>NaN</td>\n",
              "      <td>NaN</td>\n",
              "      <td>...</td>\n",
              "      <td>0.0</td>\n",
              "      <td>0.0</td>\n",
              "      <td>0.0</td>\n",
              "      <td>0.0</td>\n",
              "      <td>0.0</td>\n",
              "      <td>1.0</td>\n",
              "      <td>NaN</td>\n",
              "      <td>NaN</td>\n",
              "      <td>NaN</td>\n",
              "      <td>NaN</td>\n",
              "    </tr>\n",
              "    <tr>\n",
              "      <th>1</th>\n",
              "      <td>66434.0</td>\n",
              "      <td>Broome County Health Department</td>\n",
              "      <td>County Health Department</td>\n",
              "      <td>225 Front St.</td>\n",
              "      <td>Binghamton</td>\n",
              "      <td>NY</td>\n",
              "      <td>13905.0</td>\n",
              "      <td>NaN</td>\n",
              "      <td>NaN</td>\n",
              "      <td>NaN</td>\n",
              "      <td>...</td>\n",
              "      <td>1.0</td>\n",
              "      <td>0.0</td>\n",
              "      <td>0.0</td>\n",
              "      <td>0.0</td>\n",
              "      <td>1.0</td>\n",
              "      <td>0.0</td>\n",
              "      <td>NaN</td>\n",
              "      <td>NaN</td>\n",
              "      <td>NaN</td>\n",
              "      <td>NaN</td>\n",
              "    </tr>\n",
              "    <tr>\n",
              "      <th>2</th>\n",
              "      <td>66434.0</td>\n",
              "      <td>Broome County Health Department</td>\n",
              "      <td>County Health Department</td>\n",
              "      <td>225 Front St.</td>\n",
              "      <td>Binghamton</td>\n",
              "      <td>NY</td>\n",
              "      <td>13905.0</td>\n",
              "      <td>NaN</td>\n",
              "      <td>NaN</td>\n",
              "      <td>NaN</td>\n",
              "      <td>...</td>\n",
              "      <td>0.0</td>\n",
              "      <td>0.0</td>\n",
              "      <td>0.0</td>\n",
              "      <td>0.0</td>\n",
              "      <td>1.0</td>\n",
              "      <td>0.0</td>\n",
              "      <td>NaN</td>\n",
              "      <td>NaN</td>\n",
              "      <td>NaN</td>\n",
              "      <td>NaN</td>\n",
              "    </tr>\n",
              "    <tr>\n",
              "      <th>3</th>\n",
              "      <td>66434.0</td>\n",
              "      <td>Broome County Health Department</td>\n",
              "      <td>County Health Department</td>\n",
              "      <td>225 Front St.</td>\n",
              "      <td>Binghamton</td>\n",
              "      <td>NY</td>\n",
              "      <td>13905.0</td>\n",
              "      <td>NaN</td>\n",
              "      <td>NaN</td>\n",
              "      <td>NaN</td>\n",
              "      <td>...</td>\n",
              "      <td>0.0</td>\n",
              "      <td>0.0</td>\n",
              "      <td>0.0</td>\n",
              "      <td>0.0</td>\n",
              "      <td>1.0</td>\n",
              "      <td>0.0</td>\n",
              "      <td>NaN</td>\n",
              "      <td>NaN</td>\n",
              "      <td>NaN</td>\n",
              "      <td>NaN</td>\n",
              "    </tr>\n",
              "    <tr>\n",
              "      <th>4</th>\n",
              "      <td>66434.0</td>\n",
              "      <td>Broome County Health Department</td>\n",
              "      <td>County Health Department</td>\n",
              "      <td>225 Front St.</td>\n",
              "      <td>Binghamton</td>\n",
              "      <td>NY</td>\n",
              "      <td>13905.0</td>\n",
              "      <td>NaN</td>\n",
              "      <td>NaN</td>\n",
              "      <td>NaN</td>\n",
              "      <td>...</td>\n",
              "      <td>0.0</td>\n",
              "      <td>0.0</td>\n",
              "      <td>0.0</td>\n",
              "      <td>0.0</td>\n",
              "      <td>1.0</td>\n",
              "      <td>1.0</td>\n",
              "      <td>NaN</td>\n",
              "      <td>NaN</td>\n",
              "      <td>NaN</td>\n",
              "      <td>NaN</td>\n",
              "    </tr>\n",
              "  </tbody>\n",
              "</table>\n",
              "<p>5 rows × 176 columns</p>\n",
              "</div>\n",
              "      <button class=\"colab-df-convert\" onclick=\"convertToInteractive('df-119fc601-fe73-46e8-a758-30f852a5240f')\"\n",
              "              title=\"Convert this dataframe to an interactive table.\"\n",
              "              style=\"display:none;\">\n",
              "        \n",
              "  <svg xmlns=\"http://www.w3.org/2000/svg\" height=\"24px\"viewBox=\"0 0 24 24\"\n",
              "       width=\"24px\">\n",
              "    <path d=\"M0 0h24v24H0V0z\" fill=\"none\"/>\n",
              "    <path d=\"M18.56 5.44l.94 2.06.94-2.06 2.06-.94-2.06-.94-.94-2.06-.94 2.06-2.06.94zm-11 1L8.5 8.5l.94-2.06 2.06-.94-2.06-.94L8.5 2.5l-.94 2.06-2.06.94zm10 10l.94 2.06.94-2.06 2.06-.94-2.06-.94-.94-2.06-.94 2.06-2.06.94z\"/><path d=\"M17.41 7.96l-1.37-1.37c-.4-.4-.92-.59-1.43-.59-.52 0-1.04.2-1.43.59L10.3 9.45l-7.72 7.72c-.78.78-.78 2.05 0 2.83L4 21.41c.39.39.9.59 1.41.59.51 0 1.02-.2 1.41-.59l7.78-7.78 2.81-2.81c.8-.78.8-2.07 0-2.86zM5.41 20L4 18.59l7.72-7.72 1.47 1.35L5.41 20z\"/>\n",
              "  </svg>\n",
              "      </button>\n",
              "      \n",
              "  <style>\n",
              "    .colab-df-container {\n",
              "      display:flex;\n",
              "      flex-wrap:wrap;\n",
              "      gap: 12px;\n",
              "    }\n",
              "\n",
              "    .colab-df-convert {\n",
              "      background-color: #E8F0FE;\n",
              "      border: none;\n",
              "      border-radius: 50%;\n",
              "      cursor: pointer;\n",
              "      display: none;\n",
              "      fill: #1967D2;\n",
              "      height: 32px;\n",
              "      padding: 0 0 0 0;\n",
              "      width: 32px;\n",
              "    }\n",
              "\n",
              "    .colab-df-convert:hover {\n",
              "      background-color: #E2EBFA;\n",
              "      box-shadow: 0px 1px 2px rgba(60, 64, 67, 0.3), 0px 1px 3px 1px rgba(60, 64, 67, 0.15);\n",
              "      fill: #174EA6;\n",
              "    }\n",
              "\n",
              "    [theme=dark] .colab-df-convert {\n",
              "      background-color: #3B4455;\n",
              "      fill: #D2E3FC;\n",
              "    }\n",
              "\n",
              "    [theme=dark] .colab-df-convert:hover {\n",
              "      background-color: #434B5C;\n",
              "      box-shadow: 0px 1px 3px 1px rgba(0, 0, 0, 0.15);\n",
              "      filter: drop-shadow(0px 1px 2px rgba(0, 0, 0, 0.3));\n",
              "      fill: #FFFFFF;\n",
              "    }\n",
              "  </style>\n",
              "\n",
              "      <script>\n",
              "        const buttonEl =\n",
              "          document.querySelector('#df-119fc601-fe73-46e8-a758-30f852a5240f button.colab-df-convert');\n",
              "        buttonEl.style.display =\n",
              "          google.colab.kernel.accessAllowed ? 'block' : 'none';\n",
              "\n",
              "        async function convertToInteractive(key) {\n",
              "          const element = document.querySelector('#df-119fc601-fe73-46e8-a758-30f852a5240f');\n",
              "          const dataTable =\n",
              "            await google.colab.kernel.invokeFunction('convertToInteractive',\n",
              "                                                     [key], {});\n",
              "          if (!dataTable) return;\n",
              "\n",
              "          const docLinkHtml = 'Like what you see? Visit the ' +\n",
              "            '<a target=\"_blank\" href=https://colab.research.google.com/notebooks/data_table.ipynb>data table notebook</a>'\n",
              "            + ' to learn more about interactive tables.';\n",
              "          element.innerHTML = '';\n",
              "          dataTable['output_type'] = 'display_data';\n",
              "          await google.colab.output.renderOutput(dataTable, element);\n",
              "          const docLink = document.createElement('div');\n",
              "          docLink.innerHTML = docLinkHtml;\n",
              "          element.appendChild(docLink);\n",
              "        }\n",
              "      </script>\n",
              "    </div>\n",
              "  </div>\n",
              "  "
            ]
          },
          "metadata": {},
          "execution_count": 2
        }
      ]
    },
    {
      "cell_type": "code",
      "source": [
        "# Drop the variables from the data frame\n",
        "df.drop(columns=[\"Host Org System ID\",'Host Org Name',\"Host Org Type\",'Host Org Street', 'Host Org City', 'Host Org State', \"Host Org Contact Name\", 'Host Org Contact Email', \"Host Org Contact Phone\"], inplace=True)"
      ],
      "metadata": {
        "id": "uTHX2J3WJyhD"
      },
      "execution_count": 17,
      "outputs": []
    },
    {
      "cell_type": "code",
      "source": [
        "# Print the number of non-missing values in each column\n",
        "print(df.count())"
      ],
      "metadata": {
        "colab": {
          "base_uri": "https://localhost:8080/"
        },
        "id": "KbvHkhb9d94P",
        "outputId": "605966a5-c09d-4b03-92a8-6951d7286534"
      },
      "execution_count": 25,
      "outputs": [
        {
          "output_type": "stream",
          "name": "stdout",
          "text": [
            "Host Org System ID                                6327\n",
            "Host Org Name                                     6327\n",
            "Host Org Type                                     5731\n",
            "Host Org Street                                   6327\n",
            "Host Org City                                     6327\n",
            "                                                  ... \n",
            "Survey Last Q8- Made Changes in Home (V 1)        3899\n",
            "Survey Last Q8 Made Safety Mods Home (V 2)         774\n",
            "Survey Last Q9 (V 2) / Q7 (V 3) Activity Level     621\n",
            "Last Survey Timed Up and Go (optional)              24\n",
            "Last Survey Chair Stand (optional)                   1\n",
            "Length: 176, dtype: int64\n"
          ]
        }
      ]
    },
    {
      "cell_type": "markdown",
      "source": [
        "##Program Region Data"
      ],
      "metadata": {
        "id": "PcdE03GeeawR"
      }
    },
    {
      "cell_type": "code",
      "source": [
        "# load region file using relative path \n",
        "df1 = pd.read_csv('/content/drive/MyDrive/MPH MBA/MPH/580: Practicum/NYSDOH EBFPP/NYSDOH EBFPP Host Organizations.csv')\n",
        "df1.head()"
      ],
      "metadata": {
        "colab": {
          "base_uri": "https://localhost:8080/",
          "height": 389
        },
        "id": "3qpFJ9NQXtYj",
        "outputId": "b9f6ee8b-99da-4b71-a7b7-63354a1c5255"
      },
      "execution_count": 3,
      "outputs": [
        {
          "output_type": "execute_result",
          "data": {
            "text/plain": [
              "                                   Organization Name Mailing City  \\\n",
              "0                              Albany Medical Center       Delmar   \n",
              "1                    Broome County Health Department   Binghamton   \n",
              "2                                         Candor EMS       Candor   \n",
              "3  Cattaraugus County Department of the Aging/NY ...        Olean   \n",
              "4             Chautauqua County Office for the Aging     Mayville   \n",
              "\n",
              "  Mailing State    Region           Phone  \\\n",
              "0            NY   Eastern             NaN   \n",
              "1            NY   Central  (607) 778-3929   \n",
              "2            NY   Central             NaN   \n",
              "3            NY  Western   (716) 373-8032   \n",
              "4            NY  Western   (716) 753-4726   \n",
              "\n",
              "                                          Unnamed: 5  Unnamed: 6  \\\n",
              "0                       Tom Moran from Trauma Center         NaN   \n",
              "1  Involved in the past - works with Michael Baue...         NaN   \n",
              "2                                                NaN         NaN   \n",
              "3                                                NaN         NaN   \n",
              "4                                            Active          NaN   \n",
              "\n",
              "  Contact Person Contact E-mail Contact Phone #  \n",
              "0            NaN            NaN             NaN  \n",
              "1            NaN            NaN             NaN  \n",
              "2            NaN            NaN             NaN  \n",
              "3            NaN            NaN             NaN  \n",
              "4            NaN            NaN             NaN  "
            ],
            "text/html": [
              "\n",
              "  <div id=\"df-fc78d046-d8ca-4980-a50f-49d9eb7fc5b4\">\n",
              "    <div class=\"colab-df-container\">\n",
              "      <div>\n",
              "<style scoped>\n",
              "    .dataframe tbody tr th:only-of-type {\n",
              "        vertical-align: middle;\n",
              "    }\n",
              "\n",
              "    .dataframe tbody tr th {\n",
              "        vertical-align: top;\n",
              "    }\n",
              "\n",
              "    .dataframe thead th {\n",
              "        text-align: right;\n",
              "    }\n",
              "</style>\n",
              "<table border=\"1\" class=\"dataframe\">\n",
              "  <thead>\n",
              "    <tr style=\"text-align: right;\">\n",
              "      <th></th>\n",
              "      <th>Organization Name</th>\n",
              "      <th>Mailing City</th>\n",
              "      <th>Mailing State</th>\n",
              "      <th>Region</th>\n",
              "      <th>Phone</th>\n",
              "      <th>Unnamed: 5</th>\n",
              "      <th>Unnamed: 6</th>\n",
              "      <th>Contact Person</th>\n",
              "      <th>Contact E-mail</th>\n",
              "      <th>Contact Phone #</th>\n",
              "    </tr>\n",
              "  </thead>\n",
              "  <tbody>\n",
              "    <tr>\n",
              "      <th>0</th>\n",
              "      <td>Albany Medical Center</td>\n",
              "      <td>Delmar</td>\n",
              "      <td>NY</td>\n",
              "      <td>Eastern</td>\n",
              "      <td>NaN</td>\n",
              "      <td>Tom Moran from Trauma Center</td>\n",
              "      <td>NaN</td>\n",
              "      <td>NaN</td>\n",
              "      <td>NaN</td>\n",
              "      <td>NaN</td>\n",
              "    </tr>\n",
              "    <tr>\n",
              "      <th>1</th>\n",
              "      <td>Broome County Health Department</td>\n",
              "      <td>Binghamton</td>\n",
              "      <td>NY</td>\n",
              "      <td>Central</td>\n",
              "      <td>(607) 778-3929</td>\n",
              "      <td>Involved in the past - works with Michael Baue...</td>\n",
              "      <td>NaN</td>\n",
              "      <td>NaN</td>\n",
              "      <td>NaN</td>\n",
              "      <td>NaN</td>\n",
              "    </tr>\n",
              "    <tr>\n",
              "      <th>2</th>\n",
              "      <td>Candor EMS</td>\n",
              "      <td>Candor</td>\n",
              "      <td>NY</td>\n",
              "      <td>Central</td>\n",
              "      <td>NaN</td>\n",
              "      <td>NaN</td>\n",
              "      <td>NaN</td>\n",
              "      <td>NaN</td>\n",
              "      <td>NaN</td>\n",
              "      <td>NaN</td>\n",
              "    </tr>\n",
              "    <tr>\n",
              "      <th>3</th>\n",
              "      <td>Cattaraugus County Department of the Aging/NY ...</td>\n",
              "      <td>Olean</td>\n",
              "      <td>NY</td>\n",
              "      <td>Western</td>\n",
              "      <td>(716) 373-8032</td>\n",
              "      <td>NaN</td>\n",
              "      <td>NaN</td>\n",
              "      <td>NaN</td>\n",
              "      <td>NaN</td>\n",
              "      <td>NaN</td>\n",
              "    </tr>\n",
              "    <tr>\n",
              "      <th>4</th>\n",
              "      <td>Chautauqua County Office for the Aging</td>\n",
              "      <td>Mayville</td>\n",
              "      <td>NY</td>\n",
              "      <td>Western</td>\n",
              "      <td>(716) 753-4726</td>\n",
              "      <td>Active</td>\n",
              "      <td>NaN</td>\n",
              "      <td>NaN</td>\n",
              "      <td>NaN</td>\n",
              "      <td>NaN</td>\n",
              "    </tr>\n",
              "  </tbody>\n",
              "</table>\n",
              "</div>\n",
              "      <button class=\"colab-df-convert\" onclick=\"convertToInteractive('df-fc78d046-d8ca-4980-a50f-49d9eb7fc5b4')\"\n",
              "              title=\"Convert this dataframe to an interactive table.\"\n",
              "              style=\"display:none;\">\n",
              "        \n",
              "  <svg xmlns=\"http://www.w3.org/2000/svg\" height=\"24px\"viewBox=\"0 0 24 24\"\n",
              "       width=\"24px\">\n",
              "    <path d=\"M0 0h24v24H0V0z\" fill=\"none\"/>\n",
              "    <path d=\"M18.56 5.44l.94 2.06.94-2.06 2.06-.94-2.06-.94-.94-2.06-.94 2.06-2.06.94zm-11 1L8.5 8.5l.94-2.06 2.06-.94-2.06-.94L8.5 2.5l-.94 2.06-2.06.94zm10 10l.94 2.06.94-2.06 2.06-.94-2.06-.94-.94-2.06-.94 2.06-2.06.94z\"/><path d=\"M17.41 7.96l-1.37-1.37c-.4-.4-.92-.59-1.43-.59-.52 0-1.04.2-1.43.59L10.3 9.45l-7.72 7.72c-.78.78-.78 2.05 0 2.83L4 21.41c.39.39.9.59 1.41.59.51 0 1.02-.2 1.41-.59l7.78-7.78 2.81-2.81c.8-.78.8-2.07 0-2.86zM5.41 20L4 18.59l7.72-7.72 1.47 1.35L5.41 20z\"/>\n",
              "  </svg>\n",
              "      </button>\n",
              "      \n",
              "  <style>\n",
              "    .colab-df-container {\n",
              "      display:flex;\n",
              "      flex-wrap:wrap;\n",
              "      gap: 12px;\n",
              "    }\n",
              "\n",
              "    .colab-df-convert {\n",
              "      background-color: #E8F0FE;\n",
              "      border: none;\n",
              "      border-radius: 50%;\n",
              "      cursor: pointer;\n",
              "      display: none;\n",
              "      fill: #1967D2;\n",
              "      height: 32px;\n",
              "      padding: 0 0 0 0;\n",
              "      width: 32px;\n",
              "    }\n",
              "\n",
              "    .colab-df-convert:hover {\n",
              "      background-color: #E2EBFA;\n",
              "      box-shadow: 0px 1px 2px rgba(60, 64, 67, 0.3), 0px 1px 3px 1px rgba(60, 64, 67, 0.15);\n",
              "      fill: #174EA6;\n",
              "    }\n",
              "\n",
              "    [theme=dark] .colab-df-convert {\n",
              "      background-color: #3B4455;\n",
              "      fill: #D2E3FC;\n",
              "    }\n",
              "\n",
              "    [theme=dark] .colab-df-convert:hover {\n",
              "      background-color: #434B5C;\n",
              "      box-shadow: 0px 1px 3px 1px rgba(0, 0, 0, 0.15);\n",
              "      filter: drop-shadow(0px 1px 2px rgba(0, 0, 0, 0.3));\n",
              "      fill: #FFFFFF;\n",
              "    }\n",
              "  </style>\n",
              "\n",
              "      <script>\n",
              "        const buttonEl =\n",
              "          document.querySelector('#df-fc78d046-d8ca-4980-a50f-49d9eb7fc5b4 button.colab-df-convert');\n",
              "        buttonEl.style.display =\n",
              "          google.colab.kernel.accessAllowed ? 'block' : 'none';\n",
              "\n",
              "        async function convertToInteractive(key) {\n",
              "          const element = document.querySelector('#df-fc78d046-d8ca-4980-a50f-49d9eb7fc5b4');\n",
              "          const dataTable =\n",
              "            await google.colab.kernel.invokeFunction('convertToInteractive',\n",
              "                                                     [key], {});\n",
              "          if (!dataTable) return;\n",
              "\n",
              "          const docLinkHtml = 'Like what you see? Visit the ' +\n",
              "            '<a target=\"_blank\" href=https://colab.research.google.com/notebooks/data_table.ipynb>data table notebook</a>'\n",
              "            + ' to learn more about interactive tables.';\n",
              "          element.innerHTML = '';\n",
              "          dataTable['output_type'] = 'display_data';\n",
              "          await google.colab.output.renderOutput(dataTable, element);\n",
              "          const docLink = document.createElement('div');\n",
              "          docLink.innerHTML = docLinkHtml;\n",
              "          element.appendChild(docLink);\n",
              "        }\n",
              "      </script>\n",
              "    </div>\n",
              "  </div>\n",
              "  "
            ]
          },
          "metadata": {},
          "execution_count": 3
        }
      ]
    },
    {
      "cell_type": "code",
      "source": [
        "# Drop the variables from the data frame\n",
        "df1.drop(columns=['Mailing City', 'Mailing State', 'Phone', 'Unnamed: 5', \"Unnamed: 6\", 'Contact Person', \"Contact E-mail\", \"Contact Phone #\"], inplace=True)"
      ],
      "metadata": {
        "id": "kFOyrPANY9c3"
      },
      "execution_count": 4,
      "outputs": []
    },
    {
      "cell_type": "code",
      "source": [
        "# Rename the column 'old_name' to 'new_name'\n",
        "df1 = df1.rename(columns={'Organization Name': 'Host Org Name'})"
      ],
      "metadata": {
        "id": "DWvkG8nLaBfh"
      },
      "execution_count": 5,
      "outputs": []
    },
    {
      "cell_type": "code",
      "source": [
        "df1.head()"
      ],
      "metadata": {
        "colab": {
          "base_uri": "https://localhost:8080/",
          "height": 206
        },
        "id": "4n0zq0BWZlPf",
        "outputId": "bfcc4799-f05c-4554-8f88-1b65dbec5725"
      },
      "execution_count": 15,
      "outputs": [
        {
          "output_type": "execute_result",
          "data": {
            "text/plain": [
              "                                       Host Org Name    Region\n",
              "0                              Albany Medical Center   Eastern\n",
              "1                    Broome County Health Department   Central\n",
              "2                                         Candor EMS   Central\n",
              "3  Cattaraugus County Department of the Aging/NY ...  Western \n",
              "4             Chautauqua County Office for the Aging  Western "
            ],
            "text/html": [
              "\n",
              "  <div id=\"df-d9550043-5290-4c30-a9d3-7e7314d139d9\">\n",
              "    <div class=\"colab-df-container\">\n",
              "      <div>\n",
              "<style scoped>\n",
              "    .dataframe tbody tr th:only-of-type {\n",
              "        vertical-align: middle;\n",
              "    }\n",
              "\n",
              "    .dataframe tbody tr th {\n",
              "        vertical-align: top;\n",
              "    }\n",
              "\n",
              "    .dataframe thead th {\n",
              "        text-align: right;\n",
              "    }\n",
              "</style>\n",
              "<table border=\"1\" class=\"dataframe\">\n",
              "  <thead>\n",
              "    <tr style=\"text-align: right;\">\n",
              "      <th></th>\n",
              "      <th>Host Org Name</th>\n",
              "      <th>Region</th>\n",
              "    </tr>\n",
              "  </thead>\n",
              "  <tbody>\n",
              "    <tr>\n",
              "      <th>0</th>\n",
              "      <td>Albany Medical Center</td>\n",
              "      <td>Eastern</td>\n",
              "    </tr>\n",
              "    <tr>\n",
              "      <th>1</th>\n",
              "      <td>Broome County Health Department</td>\n",
              "      <td>Central</td>\n",
              "    </tr>\n",
              "    <tr>\n",
              "      <th>2</th>\n",
              "      <td>Candor EMS</td>\n",
              "      <td>Central</td>\n",
              "    </tr>\n",
              "    <tr>\n",
              "      <th>3</th>\n",
              "      <td>Cattaraugus County Department of the Aging/NY ...</td>\n",
              "      <td>Western</td>\n",
              "    </tr>\n",
              "    <tr>\n",
              "      <th>4</th>\n",
              "      <td>Chautauqua County Office for the Aging</td>\n",
              "      <td>Western</td>\n",
              "    </tr>\n",
              "  </tbody>\n",
              "</table>\n",
              "</div>\n",
              "      <button class=\"colab-df-convert\" onclick=\"convertToInteractive('df-d9550043-5290-4c30-a9d3-7e7314d139d9')\"\n",
              "              title=\"Convert this dataframe to an interactive table.\"\n",
              "              style=\"display:none;\">\n",
              "        \n",
              "  <svg xmlns=\"http://www.w3.org/2000/svg\" height=\"24px\"viewBox=\"0 0 24 24\"\n",
              "       width=\"24px\">\n",
              "    <path d=\"M0 0h24v24H0V0z\" fill=\"none\"/>\n",
              "    <path d=\"M18.56 5.44l.94 2.06.94-2.06 2.06-.94-2.06-.94-.94-2.06-.94 2.06-2.06.94zm-11 1L8.5 8.5l.94-2.06 2.06-.94-2.06-.94L8.5 2.5l-.94 2.06-2.06.94zm10 10l.94 2.06.94-2.06 2.06-.94-2.06-.94-.94-2.06-.94 2.06-2.06.94z\"/><path d=\"M17.41 7.96l-1.37-1.37c-.4-.4-.92-.59-1.43-.59-.52 0-1.04.2-1.43.59L10.3 9.45l-7.72 7.72c-.78.78-.78 2.05 0 2.83L4 21.41c.39.39.9.59 1.41.59.51 0 1.02-.2 1.41-.59l7.78-7.78 2.81-2.81c.8-.78.8-2.07 0-2.86zM5.41 20L4 18.59l7.72-7.72 1.47 1.35L5.41 20z\"/>\n",
              "  </svg>\n",
              "      </button>\n",
              "      \n",
              "  <style>\n",
              "    .colab-df-container {\n",
              "      display:flex;\n",
              "      flex-wrap:wrap;\n",
              "      gap: 12px;\n",
              "    }\n",
              "\n",
              "    .colab-df-convert {\n",
              "      background-color: #E8F0FE;\n",
              "      border: none;\n",
              "      border-radius: 50%;\n",
              "      cursor: pointer;\n",
              "      display: none;\n",
              "      fill: #1967D2;\n",
              "      height: 32px;\n",
              "      padding: 0 0 0 0;\n",
              "      width: 32px;\n",
              "    }\n",
              "\n",
              "    .colab-df-convert:hover {\n",
              "      background-color: #E2EBFA;\n",
              "      box-shadow: 0px 1px 2px rgba(60, 64, 67, 0.3), 0px 1px 3px 1px rgba(60, 64, 67, 0.15);\n",
              "      fill: #174EA6;\n",
              "    }\n",
              "\n",
              "    [theme=dark] .colab-df-convert {\n",
              "      background-color: #3B4455;\n",
              "      fill: #D2E3FC;\n",
              "    }\n",
              "\n",
              "    [theme=dark] .colab-df-convert:hover {\n",
              "      background-color: #434B5C;\n",
              "      box-shadow: 0px 1px 3px 1px rgba(0, 0, 0, 0.15);\n",
              "      filter: drop-shadow(0px 1px 2px rgba(0, 0, 0, 0.3));\n",
              "      fill: #FFFFFF;\n",
              "    }\n",
              "  </style>\n",
              "\n",
              "      <script>\n",
              "        const buttonEl =\n",
              "          document.querySelector('#df-d9550043-5290-4c30-a9d3-7e7314d139d9 button.colab-df-convert');\n",
              "        buttonEl.style.display =\n",
              "          google.colab.kernel.accessAllowed ? 'block' : 'none';\n",
              "\n",
              "        async function convertToInteractive(key) {\n",
              "          const element = document.querySelector('#df-d9550043-5290-4c30-a9d3-7e7314d139d9');\n",
              "          const dataTable =\n",
              "            await google.colab.kernel.invokeFunction('convertToInteractive',\n",
              "                                                     [key], {});\n",
              "          if (!dataTable) return;\n",
              "\n",
              "          const docLinkHtml = 'Like what you see? Visit the ' +\n",
              "            '<a target=\"_blank\" href=https://colab.research.google.com/notebooks/data_table.ipynb>data table notebook</a>'\n",
              "            + ' to learn more about interactive tables.';\n",
              "          element.innerHTML = '';\n",
              "          dataTable['output_type'] = 'display_data';\n",
              "          await google.colab.output.renderOutput(dataTable, element);\n",
              "          const docLink = document.createElement('div');\n",
              "          docLink.innerHTML = docLinkHtml;\n",
              "          element.appendChild(docLink);\n",
              "        }\n",
              "      </script>\n",
              "    </div>\n",
              "  </div>\n",
              "  "
            ]
          },
          "metadata": {},
          "execution_count": 15
        }
      ]
    },
    {
      "cell_type": "code",
      "source": [
        "# Print the number of non-missing values in each column\n",
        "print(df1.count())"
      ],
      "metadata": {
        "colab": {
          "base_uri": "https://localhost:8080/"
        },
        "id": "gJBheLCFem8T",
        "outputId": "0e345c79-f929-4f82-aacf-40dc62825ba8"
      },
      "execution_count": 26,
      "outputs": [
        {
          "output_type": "stream",
          "name": "stdout",
          "text": [
            "Host Org Name    75\n",
            "Region           74\n",
            "dtype: int64\n"
          ]
        }
      ]
    },
    {
      "cell_type": "markdown",
      "source": [
        "##Merging"
      ],
      "metadata": {
        "id": "vyG9qf7LeqXB"
      }
    },
    {
      "cell_type": "code",
      "source": [
        "# Merge Fall and Regain on the 'Host Org Name' column\n",
        "df_m = pd.merge(df, df1, on='Host Org Name')"
      ],
      "metadata": {
        "id": "WZ8KfrFobM3k"
      },
      "execution_count": 6,
      "outputs": []
    },
    {
      "cell_type": "code",
      "source": [
        "df_m.head()"
      ],
      "metadata": {
        "colab": {
          "base_uri": "https://localhost:8080/",
          "height": 699
        },
        "id": "8j-UaZ61cGYf",
        "outputId": "152aa524-e042-47b2-c6b8-38030c3aa609"
      },
      "execution_count": 22,
      "outputs": [
        {
          "output_type": "execute_result",
          "data": {
            "text/plain": [
              "   Host Org System ID                    Host Org Name  \\\n",
              "0             66434.0  Broome County Health Department   \n",
              "1             66434.0  Broome County Health Department   \n",
              "2             66434.0  Broome County Health Department   \n",
              "3             66434.0  Broome County Health Department   \n",
              "4             66434.0  Broome County Health Department   \n",
              "\n",
              "              Host Org Type Host Org Street Host Org City Host Org State  \\\n",
              "0  County Health Department   225 Front St.    Binghamton             NY   \n",
              "1  County Health Department   225 Front St.    Binghamton             NY   \n",
              "2  County Health Department   225 Front St.    Binghamton             NY   \n",
              "3  County Health Department   225 Front St.    Binghamton             NY   \n",
              "4  County Health Department   225 Front St.    Binghamton             NY   \n",
              "\n",
              "   Host Org Zip  Host Org Contact Name  Host Org Contact Email  \\\n",
              "0       13905.0                    NaN                     NaN   \n",
              "1       13905.0                    NaN                     NaN   \n",
              "2       13905.0                    NaN                     NaN   \n",
              "3       13905.0                    NaN                     NaN   \n",
              "4       13905.0                    NaN                     NaN   \n",
              "\n",
              "   Host Org Contact Phone  ...  \\\n",
              "0                     NaN  ...   \n",
              "1                     NaN  ...   \n",
              "2                     NaN  ...   \n",
              "3                     NaN  ...   \n",
              "4                     NaN  ...   \n",
              "\n",
              "   Survey Last Q8 (V 1) / Q7 (V 2) / Q9 (V 3) - Had Vision Checked  \\\n",
              "0                                                0.0                 \n",
              "1                                                0.0                 \n",
              "2                                                0.0                 \n",
              "3                                                0.0                 \n",
              "4                                                0.0                 \n",
              "\n",
              "  Survey Last Q8 (V 1) / Q7 (V 2) / Q9 (V 3) - Had Medication Review  \\\n",
              "0                                                0.0                   \n",
              "1                                                0.0                   \n",
              "2                                                0.0                   \n",
              "3                                                0.0                   \n",
              "4                                                0.0                   \n",
              "\n",
              "  Survey Last Q8 (V 1) / Q7 (V 2) / Q9 (V 3) - Participated in Another Fall Progtram  \\\n",
              "0                                                0.0                                   \n",
              "1                                                0.0                                   \n",
              "2                                                0.0                                   \n",
              "3                                                0.0                                   \n",
              "4                                                0.0                                   \n",
              "\n",
              "  Survey Last Q8- Exercises at Home (V 1)  \\\n",
              "0                                     0.0   \n",
              "1                                     1.0   \n",
              "2                                     1.0   \n",
              "3                                     1.0   \n",
              "4                                     1.0   \n",
              "\n",
              "  Survey Last Q8- Made Changes in Home (V 1)  \\\n",
              "0                                        1.0   \n",
              "1                                        0.0   \n",
              "2                                        0.0   \n",
              "3                                        0.0   \n",
              "4                                        1.0   \n",
              "\n",
              "  Survey Last Q8 Made Safety Mods Home (V 2)  \\\n",
              "0                                        NaN   \n",
              "1                                        NaN   \n",
              "2                                        NaN   \n",
              "3                                        NaN   \n",
              "4                                        NaN   \n",
              "\n",
              "   Survey Last Q9 (V 2) / Q7 (V 3) Activity Level  \\\n",
              "0                                             NaN   \n",
              "1                                             NaN   \n",
              "2                                             NaN   \n",
              "3                                             NaN   \n",
              "4                                             NaN   \n",
              "\n",
              "  Last Survey Timed Up and Go (optional) Last Survey Chair Stand (optional)  \\\n",
              "0                                    NaN                                NaN   \n",
              "1                                    NaN                                NaN   \n",
              "2                                    NaN                                NaN   \n",
              "3                                    NaN                                NaN   \n",
              "4                                    NaN                                NaN   \n",
              "\n",
              "    Region  \n",
              "0  Central  \n",
              "1  Central  \n",
              "2  Central  \n",
              "3  Central  \n",
              "4  Central  \n",
              "\n",
              "[5 rows x 177 columns]"
            ],
            "text/html": [
              "\n",
              "  <div id=\"df-281e8dda-8fe1-410a-87a9-2e6dc86d5c16\">\n",
              "    <div class=\"colab-df-container\">\n",
              "      <div>\n",
              "<style scoped>\n",
              "    .dataframe tbody tr th:only-of-type {\n",
              "        vertical-align: middle;\n",
              "    }\n",
              "\n",
              "    .dataframe tbody tr th {\n",
              "        vertical-align: top;\n",
              "    }\n",
              "\n",
              "    .dataframe thead th {\n",
              "        text-align: right;\n",
              "    }\n",
              "</style>\n",
              "<table border=\"1\" class=\"dataframe\">\n",
              "  <thead>\n",
              "    <tr style=\"text-align: right;\">\n",
              "      <th></th>\n",
              "      <th>Host Org System ID</th>\n",
              "      <th>Host Org Name</th>\n",
              "      <th>Host Org Type</th>\n",
              "      <th>Host Org Street</th>\n",
              "      <th>Host Org City</th>\n",
              "      <th>Host Org State</th>\n",
              "      <th>Host Org Zip</th>\n",
              "      <th>Host Org Contact Name</th>\n",
              "      <th>Host Org Contact Email</th>\n",
              "      <th>Host Org Contact Phone</th>\n",
              "      <th>...</th>\n",
              "      <th>Survey Last Q8 (V 1) / Q7 (V 2) / Q9 (V 3) - Had Vision Checked</th>\n",
              "      <th>Survey Last Q8 (V 1) / Q7 (V 2) / Q9 (V 3) - Had Medication Review</th>\n",
              "      <th>Survey Last Q8 (V 1) / Q7 (V 2) / Q9 (V 3) - Participated in Another Fall Progtram</th>\n",
              "      <th>Survey Last Q8- Exercises at Home (V 1)</th>\n",
              "      <th>Survey Last Q8- Made Changes in Home (V 1)</th>\n",
              "      <th>Survey Last Q8 Made Safety Mods Home (V 2)</th>\n",
              "      <th>Survey Last Q9 (V 2) / Q7 (V 3) Activity Level</th>\n",
              "      <th>Last Survey Timed Up and Go (optional)</th>\n",
              "      <th>Last Survey Chair Stand (optional)</th>\n",
              "      <th>Region</th>\n",
              "    </tr>\n",
              "  </thead>\n",
              "  <tbody>\n",
              "    <tr>\n",
              "      <th>0</th>\n",
              "      <td>66434.0</td>\n",
              "      <td>Broome County Health Department</td>\n",
              "      <td>County Health Department</td>\n",
              "      <td>225 Front St.</td>\n",
              "      <td>Binghamton</td>\n",
              "      <td>NY</td>\n",
              "      <td>13905.0</td>\n",
              "      <td>NaN</td>\n",
              "      <td>NaN</td>\n",
              "      <td>NaN</td>\n",
              "      <td>...</td>\n",
              "      <td>0.0</td>\n",
              "      <td>0.0</td>\n",
              "      <td>0.0</td>\n",
              "      <td>0.0</td>\n",
              "      <td>1.0</td>\n",
              "      <td>NaN</td>\n",
              "      <td>NaN</td>\n",
              "      <td>NaN</td>\n",
              "      <td>NaN</td>\n",
              "      <td>Central</td>\n",
              "    </tr>\n",
              "    <tr>\n",
              "      <th>1</th>\n",
              "      <td>66434.0</td>\n",
              "      <td>Broome County Health Department</td>\n",
              "      <td>County Health Department</td>\n",
              "      <td>225 Front St.</td>\n",
              "      <td>Binghamton</td>\n",
              "      <td>NY</td>\n",
              "      <td>13905.0</td>\n",
              "      <td>NaN</td>\n",
              "      <td>NaN</td>\n",
              "      <td>NaN</td>\n",
              "      <td>...</td>\n",
              "      <td>0.0</td>\n",
              "      <td>0.0</td>\n",
              "      <td>0.0</td>\n",
              "      <td>1.0</td>\n",
              "      <td>0.0</td>\n",
              "      <td>NaN</td>\n",
              "      <td>NaN</td>\n",
              "      <td>NaN</td>\n",
              "      <td>NaN</td>\n",
              "      <td>Central</td>\n",
              "    </tr>\n",
              "    <tr>\n",
              "      <th>2</th>\n",
              "      <td>66434.0</td>\n",
              "      <td>Broome County Health Department</td>\n",
              "      <td>County Health Department</td>\n",
              "      <td>225 Front St.</td>\n",
              "      <td>Binghamton</td>\n",
              "      <td>NY</td>\n",
              "      <td>13905.0</td>\n",
              "      <td>NaN</td>\n",
              "      <td>NaN</td>\n",
              "      <td>NaN</td>\n",
              "      <td>...</td>\n",
              "      <td>0.0</td>\n",
              "      <td>0.0</td>\n",
              "      <td>0.0</td>\n",
              "      <td>1.0</td>\n",
              "      <td>0.0</td>\n",
              "      <td>NaN</td>\n",
              "      <td>NaN</td>\n",
              "      <td>NaN</td>\n",
              "      <td>NaN</td>\n",
              "      <td>Central</td>\n",
              "    </tr>\n",
              "    <tr>\n",
              "      <th>3</th>\n",
              "      <td>66434.0</td>\n",
              "      <td>Broome County Health Department</td>\n",
              "      <td>County Health Department</td>\n",
              "      <td>225 Front St.</td>\n",
              "      <td>Binghamton</td>\n",
              "      <td>NY</td>\n",
              "      <td>13905.0</td>\n",
              "      <td>NaN</td>\n",
              "      <td>NaN</td>\n",
              "      <td>NaN</td>\n",
              "      <td>...</td>\n",
              "      <td>0.0</td>\n",
              "      <td>0.0</td>\n",
              "      <td>0.0</td>\n",
              "      <td>1.0</td>\n",
              "      <td>0.0</td>\n",
              "      <td>NaN</td>\n",
              "      <td>NaN</td>\n",
              "      <td>NaN</td>\n",
              "      <td>NaN</td>\n",
              "      <td>Central</td>\n",
              "    </tr>\n",
              "    <tr>\n",
              "      <th>4</th>\n",
              "      <td>66434.0</td>\n",
              "      <td>Broome County Health Department</td>\n",
              "      <td>County Health Department</td>\n",
              "      <td>225 Front St.</td>\n",
              "      <td>Binghamton</td>\n",
              "      <td>NY</td>\n",
              "      <td>13905.0</td>\n",
              "      <td>NaN</td>\n",
              "      <td>NaN</td>\n",
              "      <td>NaN</td>\n",
              "      <td>...</td>\n",
              "      <td>0.0</td>\n",
              "      <td>0.0</td>\n",
              "      <td>0.0</td>\n",
              "      <td>1.0</td>\n",
              "      <td>1.0</td>\n",
              "      <td>NaN</td>\n",
              "      <td>NaN</td>\n",
              "      <td>NaN</td>\n",
              "      <td>NaN</td>\n",
              "      <td>Central</td>\n",
              "    </tr>\n",
              "  </tbody>\n",
              "</table>\n",
              "<p>5 rows × 177 columns</p>\n",
              "</div>\n",
              "      <button class=\"colab-df-convert\" onclick=\"convertToInteractive('df-281e8dda-8fe1-410a-87a9-2e6dc86d5c16')\"\n",
              "              title=\"Convert this dataframe to an interactive table.\"\n",
              "              style=\"display:none;\">\n",
              "        \n",
              "  <svg xmlns=\"http://www.w3.org/2000/svg\" height=\"24px\"viewBox=\"0 0 24 24\"\n",
              "       width=\"24px\">\n",
              "    <path d=\"M0 0h24v24H0V0z\" fill=\"none\"/>\n",
              "    <path d=\"M18.56 5.44l.94 2.06.94-2.06 2.06-.94-2.06-.94-.94-2.06-.94 2.06-2.06.94zm-11 1L8.5 8.5l.94-2.06 2.06-.94-2.06-.94L8.5 2.5l-.94 2.06-2.06.94zm10 10l.94 2.06.94-2.06 2.06-.94-2.06-.94-.94-2.06-.94 2.06-2.06.94z\"/><path d=\"M17.41 7.96l-1.37-1.37c-.4-.4-.92-.59-1.43-.59-.52 0-1.04.2-1.43.59L10.3 9.45l-7.72 7.72c-.78.78-.78 2.05 0 2.83L4 21.41c.39.39.9.59 1.41.59.51 0 1.02-.2 1.41-.59l7.78-7.78 2.81-2.81c.8-.78.8-2.07 0-2.86zM5.41 20L4 18.59l7.72-7.72 1.47 1.35L5.41 20z\"/>\n",
              "  </svg>\n",
              "      </button>\n",
              "      \n",
              "  <style>\n",
              "    .colab-df-container {\n",
              "      display:flex;\n",
              "      flex-wrap:wrap;\n",
              "      gap: 12px;\n",
              "    }\n",
              "\n",
              "    .colab-df-convert {\n",
              "      background-color: #E8F0FE;\n",
              "      border: none;\n",
              "      border-radius: 50%;\n",
              "      cursor: pointer;\n",
              "      display: none;\n",
              "      fill: #1967D2;\n",
              "      height: 32px;\n",
              "      padding: 0 0 0 0;\n",
              "      width: 32px;\n",
              "    }\n",
              "\n",
              "    .colab-df-convert:hover {\n",
              "      background-color: #E2EBFA;\n",
              "      box-shadow: 0px 1px 2px rgba(60, 64, 67, 0.3), 0px 1px 3px 1px rgba(60, 64, 67, 0.15);\n",
              "      fill: #174EA6;\n",
              "    }\n",
              "\n",
              "    [theme=dark] .colab-df-convert {\n",
              "      background-color: #3B4455;\n",
              "      fill: #D2E3FC;\n",
              "    }\n",
              "\n",
              "    [theme=dark] .colab-df-convert:hover {\n",
              "      background-color: #434B5C;\n",
              "      box-shadow: 0px 1px 3px 1px rgba(0, 0, 0, 0.15);\n",
              "      filter: drop-shadow(0px 1px 2px rgba(0, 0, 0, 0.3));\n",
              "      fill: #FFFFFF;\n",
              "    }\n",
              "  </style>\n",
              "\n",
              "      <script>\n",
              "        const buttonEl =\n",
              "          document.querySelector('#df-281e8dda-8fe1-410a-87a9-2e6dc86d5c16 button.colab-df-convert');\n",
              "        buttonEl.style.display =\n",
              "          google.colab.kernel.accessAllowed ? 'block' : 'none';\n",
              "\n",
              "        async function convertToInteractive(key) {\n",
              "          const element = document.querySelector('#df-281e8dda-8fe1-410a-87a9-2e6dc86d5c16');\n",
              "          const dataTable =\n",
              "            await google.colab.kernel.invokeFunction('convertToInteractive',\n",
              "                                                     [key], {});\n",
              "          if (!dataTable) return;\n",
              "\n",
              "          const docLinkHtml = 'Like what you see? Visit the ' +\n",
              "            '<a target=\"_blank\" href=https://colab.research.google.com/notebooks/data_table.ipynb>data table notebook</a>'\n",
              "            + ' to learn more about interactive tables.';\n",
              "          element.innerHTML = '';\n",
              "          dataTable['output_type'] = 'display_data';\n",
              "          await google.colab.output.renderOutput(dataTable, element);\n",
              "          const docLink = document.createElement('div');\n",
              "          docLink.innerHTML = docLinkHtml;\n",
              "          element.appendChild(docLink);\n",
              "        }\n",
              "      </script>\n",
              "    </div>\n",
              "  </div>\n",
              "  "
            ]
          },
          "metadata": {},
          "execution_count": 22
        }
      ]
    },
    {
      "cell_type": "code",
      "source": [
        "df_m[\"Region\"].describe()"
      ],
      "metadata": {
        "colab": {
          "base_uri": "https://localhost:8080/"
        },
        "id": "YVHVV9luH7li",
        "outputId": "52205ba2-b1c0-41b4-92b1-e312c2b03f0e"
      },
      "execution_count": 16,
      "outputs": [
        {
          "output_type": "execute_result",
          "data": {
            "text/plain": [
              "count               6289\n",
              "unique                 7\n",
              "top       Suffolk County\n",
              "freq                1575\n",
              "Name: Region, dtype: object"
            ]
          },
          "metadata": {},
          "execution_count": 16
        }
      ]
    },
    {
      "cell_type": "code",
      "source": [
        "# Print the number of non-missing values in each column\n",
        "print(df_m.count())"
      ],
      "metadata": {
        "colab": {
          "base_uri": "https://localhost:8080/"
        },
        "id": "MDGkLvrGe74y",
        "outputId": "f084f2f3-4ac8-4f51-cb49-28db379c0287"
      },
      "execution_count": 27,
      "outputs": [
        {
          "output_type": "stream",
          "name": "stdout",
          "text": [
            "Host Org System ID                                6289\n",
            "Host Org Name                                     6289\n",
            "Host Org Type                                     5693\n",
            "Host Org Street                                   6289\n",
            "Host Org City                                     6289\n",
            "                                                  ... \n",
            "Survey Last Q8 Made Safety Mods Home (V 2)         757\n",
            "Survey Last Q9 (V 2) / Q7 (V 3) Activity Level     603\n",
            "Last Survey Timed Up and Go (optional)              24\n",
            "Last Survey Chair Stand (optional)                   1\n",
            "Region                                            6289\n",
            "Length: 177, dtype: int64\n"
          ]
        }
      ]
    },
    {
      "cell_type": "markdown",
      "source": [
        "# Explanatory Data Analysis"
      ],
      "metadata": {
        "id": "o9jRZiCZfihF"
      }
    },
    {
      "cell_type": "markdown",
      "source": [
        "##Null Values"
      ],
      "metadata": {
        "id": "PFUdSPFtdLuI"
      }
    },
    {
      "cell_type": "code",
      "source": [
        "# Check for null values\n",
        "null_mask = df_m.isnull().sum()\n",
        "\n",
        "# Print the null mask\n",
        "print(null_mask)"
      ],
      "metadata": {
        "colab": {
          "base_uri": "https://localhost:8080/"
        },
        "id": "EakOuyVjdK49",
        "outputId": "34c21a5c-f21e-4fe2-e250-f8679f30d83f"
      },
      "execution_count": 23,
      "outputs": [
        {
          "output_type": "stream",
          "name": "stdout",
          "text": [
            "Host Org System ID                                 924\n",
            "Host Org Name                                      924\n",
            "Host Org Type                                     1520\n",
            "Host Org Street                                    924\n",
            "Host Org City                                      924\n",
            "                                                  ... \n",
            "Survey Last Q8 Made Safety Mods Home (V 2)        6456\n",
            "Survey Last Q9 (V 2) / Q7 (V 3) Activity Level    6610\n",
            "Last Survey Timed Up and Go (optional)            7189\n",
            "Last Survey Chair Stand (optional)                7212\n",
            "Region                                             924\n",
            "Length: 177, dtype: int64\n"
          ]
        }
      ]
    },
    {
      "cell_type": "code",
      "source": [
        "import seaborn as sns"
      ],
      "metadata": {
        "id": "iX9uyKnIgUqM"
      },
      "execution_count": 7,
      "outputs": []
    },
    {
      "cell_type": "code",
      "source": [
        "import matplotlib.pyplot as plt"
      ],
      "metadata": {
        "id": "7hHeWSpmhUqd"
      },
      "execution_count": 8,
      "outputs": []
    },
    {
      "cell_type": "markdown",
      "source": [
        "##Region Column"
      ],
      "metadata": {
        "id": "nBaJ7QOUfPkT"
      }
    },
    {
      "cell_type": "code",
      "source": [
        "# Create the frequency table\n",
        "Region_freq = df_m['Region'].value_counts()\n",
        "\n",
        "# Print the frequency table\n",
        "print(Region_freq)"
      ],
      "metadata": {
        "colab": {
          "base_uri": "https://localhost:8080/"
        },
        "id": "ZUfddNWTfRYx",
        "outputId": "4b94cc67-e3dc-4b61-f0f5-be956842f991"
      },
      "execution_count": 28,
      "outputs": [
        {
          "output_type": "stream",
          "name": "stdout",
          "text": [
            "Suffolk County    1575\n",
            "Western           1389\n",
            "Nassau County     1310\n",
            "Eastern           1136\n",
            "Northern           363\n",
            "Central            306\n",
            "NYC                210\n",
            "Name: Region, dtype: int64\n"
          ]
        }
      ]
    },
    {
      "cell_type": "code",
      "source": [
        "# Plot the frequency table as a histogram\n",
        "sns.countplot(x=\"Region\", data=df_m, order=df_m[\"Region\"].value_counts().index)\n",
        "\n",
        "# Show the plot\n",
        "plt.show()"
      ],
      "metadata": {
        "colab": {
          "base_uri": "https://localhost:8080/",
          "height": 279
        },
        "id": "8RooJRNdgH6s",
        "outputId": "e99f1bf2-62c0-4e6c-b4cc-3c2159f22f46"
      },
      "execution_count": 38,
      "outputs": [
        {
          "output_type": "display_data",
          "data": {
            "text/plain": [
              "<Figure size 432x288 with 1 Axes>"
            ],
            "image/png": "[encoded data removed]"
          },
          "metadata": {
            "needs_background": "light"
          }
        }
      ]
    },
    {
      "cell_type": "markdown",
      "source": [
        "##Workshop Program"
      ],
      "metadata": {
        "id": "YpqXcGYBm5uu"
      }
    },
    {
      "cell_type": "code",
      "source": [
        "# Create the frequency table\n",
        "WorkshopProgram_freq = df_m['Workshop Program'].value_counts()\n",
        "\n",
        "# Print the frequency table\n",
        "print(WorkshopProgram_freq)"
      ],
      "metadata": {
        "colab": {
          "base_uri": "https://localhost:8080/"
        },
        "id": "3kxKNb8Xm5LP",
        "outputId": "857ed6f5-0fa7-40cd-9f2b-eeea0df3c5b1"
      },
      "execution_count": 42,
      "outputs": [
        {
          "output_type": "stream",
          "name": "stdout",
          "text": [
            "Tai Chi for Arthritis    5239\n",
            "Stepping On               754\n",
            "MOB                       248\n",
            "Tai Ji Quan                37\n",
            "Stay Safe Stay Active      11\n",
            "Name: Workshop Program, dtype: int64\n"
          ]
        }
      ]
    },
    {
      "cell_type": "code",
      "source": [
        "# Plot the frequency table as a histogram\n",
        "sns.countplot(x=\"Workshop Program\", data=df_m, order=df_m[\"Workshop Program\"].value_counts().index)\n",
        "\n",
        "# Show the plot\n",
        "plt.show()"
      ],
      "metadata": {
        "colab": {
          "base_uri": "https://localhost:8080/",
          "height": 279
        },
        "id": "SS8rEmmGnG4O",
        "outputId": "056944ed-0753-4f3c-d1c8-b2ee8848d977"
      },
      "execution_count": 43,
      "outputs": [
        {
          "output_type": "display_data",
          "data": {
            "text/plain": [
              "<Figure size 432x288 with 1 Axes>"
            ],
            "image/png": "[encoded data removed]"
          },
          "metadata": {
            "needs_background": "light"
          }
        }
      ]
    },
    {
      "cell_type": "markdown",
      "source": [
        "# Completion Rate"
      ],
      "metadata": {
        "id": "Y0wadAknL5XV"
      }
    },
    {
      "cell_type": "markdown",
      "source": [
        "##Overall Completion Rate"
      ],
      "metadata": {
        "id": "ryFTj2W7M_ez"
      }
    },
    {
      "cell_type": "code",
      "source": [
        "# create a new column for the completion rate\n",
        "df_m[\"Completion Rate\"] = 0\n",
        "\n",
        "# iterate through the rows of the DataFrame\n",
        "for index, row in df_m.iterrows():\n",
        "    enrolled = row[\"Workshop Num Enrolled\"]\n",
        "    completed = row[\"Workshop Num Completed\"]\n",
        "\n",
        "    # check if the number of enrolled participants is greater than 0\n",
        "    if enrolled > 0:\n",
        "        # calculate the completion rate\n",
        "        completion_rate = (completed / enrolled) * 100\n",
        "\n",
        "        # update the value in the \"Completion Rate\" column\n",
        "        df_m.at[index, \"Completion Rate\"] = completion_rate"
      ],
      "metadata": {
        "id": "Nl2jMVX5M5Kq"
      },
      "execution_count": 10,
      "outputs": []
    },
    {
      "cell_type": "markdown",
      "source": [
        "Mean, median, and standard deviation of the overall completion rate"
      ],
      "metadata": {
        "id": "pp5h9QoiO4HR"
      }
    },
    {
      "cell_type": "code",
      "source": [
        "from statistics import mean, median, stdev\n",
        "# Calculate the mean \n",
        "mean_overall = df_m[\"Completion Rate\"].mean()\n",
        "print(\"Mean Overall Completion Rate:\", mean_overall)\n",
        "\n",
        "# Calculate the median \n",
        "median_overall = df_m[\"Completion Rate\"].median()\n",
        "print(\"Median Completion Rate:\", median_overall)\n",
        "\n",
        "# Calculate the standard deviation \n",
        "stdev_overall = df_m['Completion Rate'].std()\n",
        "print(\"Standard Deviation of Overall Completion Rate;\", stdev_overall)"
      ],
      "metadata": {
        "colab": {
          "base_uri": "https://localhost:8080/"
        },
        "id": "HRJizb3UNkLH",
        "outputId": "c2401f46-49be-421c-d526-435ab5d8ebd0"
      },
      "execution_count": 20,
      "outputs": [
        {
          "output_type": "stream",
          "name": "stdout",
          "text": [
            "Mean Overall Completion Rate: 16.859420490780536\n",
            "Median Completion Rate: 5.0\n",
            "Standard Deviation of Overall Completion Rate; 26.139455593224525\n"
          ]
        }
      ]
    },
    {
      "cell_type": "markdown",
      "source": [
        "##Tai Chi for Arthritis Completion Rate"
      ],
      "metadata": {
        "id": "-jPT-yLcR0ga"
      }
    },
    {
      "cell_type": "code",
      "source": [
        "# Select rows where the 'Workshop Program' column is equal to 'Tai Chi for Arthritis'\n",
        "df_arthritis = df_m[df_m['Workshop Program'] == 'Tai Chi for Arthritis']"
      ],
      "metadata": {
        "id": "kVjnbGAPR_bK"
      },
      "execution_count": 22,
      "outputs": []
    },
    {
      "cell_type": "code",
      "source": [
        "# Print the number of non-missing values in Tai Chi for Arthritis\n",
        "print(df_arthritis.count())"
      ],
      "metadata": {
        "colab": {
          "base_uri": "https://localhost:8080/"
        },
        "id": "bLWYGiSvV7ZE",
        "outputId": "25a34b5e-5967-4ee2-df08-f17f11bb7c6d"
      },
      "execution_count": 35,
      "outputs": [
        {
          "output_type": "stream",
          "name": "stdout",
          "text": [
            "Host Org System ID    5239\n",
            "Host Org Name         5239\n",
            "Host Org Type         4760\n",
            "Host Org Street       5239\n",
            "Host Org City         5239\n",
            "                      ... \n",
            "Unnamed: 6               0\n",
            "Contact Person        1466\n",
            "Contact E-mail         973\n",
            "Contact Phone #        493\n",
            "Completion Rate       5239\n",
            "Length: 186, dtype: int64\n"
          ]
        }
      ]
    },
    {
      "cell_type": "markdown",
      "source": [
        "Mean, median, and standard deviation of Tai Chi for Arthritis Completion Rate"
      ],
      "metadata": {
        "id": "Vpy9J3NJSl_S"
      }
    },
    {
      "cell_type": "code",
      "source": [
        "# Calculate the mean \n",
        "mean_arthritis = df_arthritis[\"Completion Rate\"].mean()\n",
        "print(\"Mean Tai Chi for Arthritis Completion Rate:\", mean_arthritis)\n",
        "\n",
        "# Calculate the median \n",
        "median_arthritis = df_arthritis[\"Completion Rate\"].median()\n",
        "print(\"Median Tai Chi for Arthritis Completion Rate:\", median_arthritis)\n",
        "\n",
        "# Calculate the standard deviation \n",
        "stdev_arthritis = df_arthritis['Completion Rate'].std()\n",
        "print(\"Standard Deviation of Tai Chi for Arthritis Completion Rate;\", stdev_arthritis)"
      ],
      "metadata": {
        "colab": {
          "base_uri": "https://localhost:8080/"
        },
        "id": "0xsIte8wRzhr",
        "outputId": "3515fdbd-d62d-4353-ee43-36d11e95143c"
      },
      "execution_count": 23,
      "outputs": [
        {
          "output_type": "stream",
          "name": "stdout",
          "text": [
            "Mean Tai Chi for Arthritis Completion Rate: 9.284596297003246\n",
            "Median Tai Chi for Arthritis Completion Rate: 5.0\n",
            "Standard Deviation of Tai Chi for Arthritis Completion Rate; 12.126517940679825\n"
          ]
        }
      ]
    },
    {
      "cell_type": "markdown",
      "source": [
        "##Stepping On Completion Rate"
      ],
      "metadata": {
        "id": "lAEO6cEFTU16"
      }
    },
    {
      "cell_type": "code",
      "source": [
        "# Select rows where the 'Workshop Program' column is equal to 'Stepping On'\n",
        "df_step = df_m[df_m['Workshop Program'] == 'Stepping On']"
      ],
      "metadata": {
        "id": "pBxvIHuQTZ67"
      },
      "execution_count": 24,
      "outputs": []
    },
    {
      "cell_type": "code",
      "source": [
        "# Print the number of non-missing values in Stepping On\n",
        "print(df_step.count())"
      ],
      "metadata": {
        "colab": {
          "base_uri": "https://localhost:8080/"
        },
        "id": "lxNCmfk-V19T",
        "outputId": "07a15c3c-e7ec-40e7-d486-0e4bcf06f7fb"
      },
      "execution_count": 34,
      "outputs": [
        {
          "output_type": "stream",
          "name": "stdout",
          "text": [
            "Host Org System ID    754\n",
            "Host Org Name         754\n",
            "Host Org Type         692\n",
            "Host Org Street       754\n",
            "Host Org City         754\n",
            "                     ... \n",
            "Unnamed: 6              0\n",
            "Contact Person        179\n",
            "Contact E-mail        179\n",
            "Contact Phone #         0\n",
            "Completion Rate       754\n",
            "Length: 186, dtype: int64\n"
          ]
        }
      ]
    },
    {
      "cell_type": "markdown",
      "source": [
        "Mean, median, and standard deviation of Stepping On Completion Rate"
      ],
      "metadata": {
        "id": "4Cbi4NM0Th7b"
      }
    },
    {
      "cell_type": "code",
      "source": [
        "# Calculate the mean \n",
        "mean_step = df_step[\"Completion Rate\"].mean()\n",
        "print(\"Mean Stepping On Completion Rate:\", mean_step)\n",
        "\n",
        "# Calculate the median \n",
        "median_step = df_step[\"Completion Rate\"].median()\n",
        "print(\"Median Stepping On Completion Rate:\", median_step)\n",
        "\n",
        "# Calculate the standard deviation \n",
        "stdev_step = df_step['Completion Rate'].std()\n",
        "print(\"Standard Deviation of Stepping On Completion Rate;\", stdev_step)"
      ],
      "metadata": {
        "colab": {
          "base_uri": "https://localhost:8080/"
        },
        "id": "lZDOyu9ZTpI-",
        "outputId": "b42fbd92-5f5a-47ce-c085-37d6a3e306ed"
      },
      "execution_count": 25,
      "outputs": [
        {
          "output_type": "stream",
          "name": "stdout",
          "text": [
            "Mean Stepping On Completion Rate: 68.19363395225464\n",
            "Median Stepping On Completion Rate: 68.0\n",
            "Standard Deviation of Stepping On Completion Rate; 19.96317091925418\n"
          ]
        }
      ]
    },
    {
      "cell_type": "markdown",
      "source": [
        "##MOB Completion Rate"
      ],
      "metadata": {
        "id": "4gkJW9xIUEgs"
      }
    },
    {
      "cell_type": "code",
      "source": [
        "# Select rows where the 'Workshop Program' column is equal to 'MOB'\n",
        "df_mob = df_m[df_m['Workshop Program'] == 'MOB']"
      ],
      "metadata": {
        "id": "A9Pxr0_bUHM_"
      },
      "execution_count": 26,
      "outputs": []
    },
    {
      "cell_type": "code",
      "source": [
        "# Print the number of non-missing values in MOB\n",
        "print(df_mob.count())"
      ],
      "metadata": {
        "colab": {
          "base_uri": "https://localhost:8080/"
        },
        "id": "ohSsNtKHVyDO",
        "outputId": "576bea5f-65d3-43ea-b50b-2f284abb336b"
      },
      "execution_count": 33,
      "outputs": [
        {
          "output_type": "stream",
          "name": "stdout",
          "text": [
            "Host Org System ID    248\n",
            "Host Org Name         248\n",
            "Host Org Type         193\n",
            "Host Org Street       248\n",
            "Host Org City         248\n",
            "                     ... \n",
            "Unnamed: 6              0\n",
            "Contact Person          0\n",
            "Contact E-mail          0\n",
            "Contact Phone #         0\n",
            "Completion Rate       248\n",
            "Length: 186, dtype: int64\n"
          ]
        }
      ]
    },
    {
      "cell_type": "markdown",
      "source": [
        "Mean, median, and standard deviation of MOB Completion Rate"
      ],
      "metadata": {
        "id": "vRYdUM9LURL5"
      }
    },
    {
      "cell_type": "code",
      "source": [
        "# Calculate the mean \n",
        "mean_mob = df_mob[\"Completion Rate\"].mean()\n",
        "print(\"Mean MOB Completion Rate:\", mean_mob)\n",
        "\n",
        "# Calculate the median \n",
        "median_mob = df_mob[\"Completion Rate\"].median()\n",
        "print(\"Median MOB Completion Rate:\", median_mob)\n",
        "\n",
        "# Calculate the standard deviation \n",
        "stdev_mob = df_mob['Completion Rate'].std()\n",
        "print(\"Standard Deviation of MOB Completion Rate;\", stdev_mob)"
      ],
      "metadata": {
        "colab": {
          "base_uri": "https://localhost:8080/"
        },
        "id": "Q5CW3dwiUT5W",
        "outputId": "362dbcc9-7c89-4ae3-e299-337ffc7d8fd0"
      },
      "execution_count": 27,
      "outputs": [
        {
          "output_type": "stream",
          "name": "stdout",
          "text": [
            "Mean MOB Completion Rate: 86.88306451612904\n",
            "Median MOB Completion Rate: 100.0\n",
            "Standard Deviation of MOB Completion Rate; 17.719315025803766\n"
          ]
        }
      ]
    },
    {
      "cell_type": "markdown",
      "source": [
        "##Tai Ji Quan Completion Rate"
      ],
      "metadata": {
        "id": "n4w-XG9MUqFC"
      }
    },
    {
      "cell_type": "code",
      "source": [
        "# Select rows where the 'Workshop Program' column is equal to 'Tai Ji Quan'\n",
        "df_quan = df_m[df_m['Workshop Program'] == 'Tai Ji Quan']"
      ],
      "metadata": {
        "id": "83nIhVg2Ut3u"
      },
      "execution_count": 28,
      "outputs": []
    },
    {
      "cell_type": "code",
      "source": [
        "# Print the number of non-missing values in Tai Ji Quan\n",
        "print(df_quan.count())"
      ],
      "metadata": {
        "colab": {
          "base_uri": "https://localhost:8080/"
        },
        "id": "TbuSJQAwVPsz",
        "outputId": "e916d94a-3d9c-4793-f90e-4526f9f3b7b6"
      },
      "execution_count": 32,
      "outputs": [
        {
          "output_type": "stream",
          "name": "stdout",
          "text": [
            "Host Org System ID    37\n",
            "Host Org Name         37\n",
            "Host Org Type         37\n",
            "Host Org Street       37\n",
            "Host Org City         37\n",
            "                      ..\n",
            "Unnamed: 6             0\n",
            "Contact Person         0\n",
            "Contact E-mail         0\n",
            "Contact Phone #        0\n",
            "Completion Rate       37\n",
            "Length: 186, dtype: int64\n"
          ]
        }
      ]
    },
    {
      "cell_type": "markdown",
      "source": [
        "Mean, median, and standard deviation of Tai Ji Quan Completion Rate"
      ],
      "metadata": {
        "id": "l3NsPrcKU4du"
      }
    },
    {
      "cell_type": "code",
      "source": [
        "# Calculate the mean \n",
        "mean_quan = df_quan[\"Completion Rate\"].mean()\n",
        "print(\"Mean Tai Ji Quan Completion Rate:\", mean_quan)\n",
        "\n",
        "# Calculate the median \n",
        "median_quan = df_quan[\"Completion Rate\"].median()\n",
        "print(\"Median Tai Ji Quan Completion Rate:\", median_quan)\n",
        "\n",
        "# Calculate the standard deviation \n",
        "stdev_quan = df_quan['Completion Rate'].std()\n",
        "print(\"Standard Deviation of Tai Ji Quan Completion Rate;\", stdev_quan)"
      ],
      "metadata": {
        "colab": {
          "base_uri": "https://localhost:8080/"
        },
        "id": "nYKOpMJfU7zZ",
        "outputId": "c8f2839c-6a92-4deb-eebb-6553084b5cae"
      },
      "execution_count": 29,
      "outputs": [
        {
          "output_type": "stream",
          "name": "stdout",
          "text": [
            "Mean Tai Ji Quan Completion Rate: 0.0\n",
            "Median Tai Ji Quan Completion Rate: 0.0\n",
            "Standard Deviation of Tai Ji Quan Completion Rate; 0.0\n"
          ]
        }
      ]
    },
    {
      "cell_type": "markdown",
      "source": [
        "##Stay Safe Stay Active Completion Rate"
      ],
      "metadata": {
        "id": "b_NrhstLWFFa"
      }
    },
    {
      "cell_type": "code",
      "source": [
        "# Select rows where the 'Workshop Program' column is equal to 'Stay Safe Stay Active'\n",
        "df_stay = df_m[df_m['Workshop Program'] == 'Stay Safe Stay Active']"
      ],
      "metadata": {
        "id": "oJpW9AWvWEL1"
      },
      "execution_count": 36,
      "outputs": []
    },
    {
      "cell_type": "code",
      "source": [
        "# Print the number of non-missing values in Stay Safe Stay Active\n",
        "print(df_stay.count())"
      ],
      "metadata": {
        "colab": {
          "base_uri": "https://localhost:8080/"
        },
        "id": "6R3jqTybWWLv",
        "outputId": "bb520d5c-1880-4f7f-aa14-b64a7fc85f18"
      },
      "execution_count": 37,
      "outputs": [
        {
          "output_type": "stream",
          "name": "stdout",
          "text": [
            "Host Org System ID    11\n",
            "Host Org Name         11\n",
            "Host Org Type         11\n",
            "Host Org Street       11\n",
            "Host Org City         11\n",
            "                      ..\n",
            "Unnamed: 6             0\n",
            "Contact Person         0\n",
            "Contact E-mail         0\n",
            "Contact Phone #        0\n",
            "Completion Rate       11\n",
            "Length: 186, dtype: int64\n"
          ]
        }
      ]
    },
    {
      "cell_type": "markdown",
      "source": [
        "Mean, median, and standard deviation of Stay Safe Stay Active Completion Rate"
      ],
      "metadata": {
        "id": "_B4Qa9CSWfhr"
      }
    },
    {
      "cell_type": "code",
      "source": [
        "# Calculate the mean \n",
        "mean_stay = df_stay[\"Completion Rate\"].mean()\n",
        "print(\"Mean Stay Safe Stay Active Completion Rate:\", mean_stay)\n",
        "\n",
        "# Calculate the median \n",
        "median_stay = df_stay[\"Completion Rate\"].median()\n",
        "print(\"Median Stay Safe Stay Active Completion Rate:\", median_stay)\n",
        "\n",
        "# Calculate the standard deviation \n",
        "stdev_stay = df_stay['Completion Rate'].std()\n",
        "print(\"Standard Deviation of Stay Safe Stay Active Completion Rate;\", stdev_stay)"
      ],
      "metadata": {
        "colab": {
          "base_uri": "https://localhost:8080/"
        },
        "id": "9CIkfGSyWfN9",
        "outputId": "945ab161-7426-44a0-af63-bf17d6c79604"
      },
      "execution_count": 38,
      "outputs": [
        {
          "output_type": "stream",
          "name": "stdout",
          "text": [
            "Mean Stay Safe Stay Active Completion Rate: 0.0\n",
            "Median Stay Safe Stay Active Completion Rate: 0.0\n",
            "Standard Deviation of Stay Safe Stay Active Completion Rate; 0.0\n"
          ]
        }
      ]
    }
  ]
}